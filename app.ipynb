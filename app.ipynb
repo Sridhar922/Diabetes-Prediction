{
 "cells": [
  {
   "cell_type": "code",
   "execution_count": 1,
   "id": "936ec0f3",
   "metadata": {},
   "outputs": [],
   "source": [
    "import pandas as pd\n",
    "import numpy as np\n",
    "from flask import Flask, request, render_template\n",
    "import pickle"
   ]
  },
  {
   "cell_type": "code",
   "execution_count": 2,
   "id": "28422b17",
   "metadata": {},
   "outputs": [],
   "source": [
    "#create flask app\n",
    "app= Flask(__name__)"
   ]
  },
  {
   "cell_type": "code",
   "execution_count": 3,
   "id": "f942cd17",
   "metadata": {},
   "outputs": [],
   "source": [
    "scaler=pickle.load(open('scaler.pkl','rb'))\n",
    "model=pickle.load(open('diabetes.pkl','rb'))"
   ]
  },
  {
   "cell_type": "code",
   "execution_count": 4,
   "id": "d04998b4",
   "metadata": {},
   "outputs": [],
   "source": [
    "## Route for homepage\n",
    "@app.route('/')\n",
    "def index():\n",
    "    return render_template('home.html')"
   ]
  },
  {
   "cell_type": "code",
   "execution_count": 5,
   "id": "34362f1a",
   "metadata": {},
   "outputs": [],
   "source": [
    "## Route for Single data point prediction\n",
    "@app.route('/predictdata',methods=['GET','POST'])\n",
    "def predict_datapoint():\n",
    "    result=\"\"\n",
    "\n",
    "    if request.method=='POST':\n",
    "\n",
    "        Pregnancies=int(request.form.get(\"Pregnancies\"))\n",
    "        Glucose = float(request.form.get('Glucose'))\n",
    "        BloodPressure = float(request.form.get('BloodPressure'))\n",
    "        SkinThickness = float(request.form.get('SkinThickness'))\n",
    "        Insulin = float(request.form.get('Insulin'))\n",
    "        BMI = float(request.form.get('BMI'))\n",
    "        DiabetesPedigreeFunction = float(request.form.get('DiabetesPedigreeFunction'))\n",
    "        Age = float(request.form.get('Age'))\n",
    "\n",
    "        new_data=scaler.transform([[Pregnancies,Glucose,BloodPressure,SkinThickness,Insulin,BMI,DiabetesPedigreeFunction,Age]])\n",
    "        predict=model.predict(new_data)\n",
    "       \n",
    "        if predict[0] ==1 :\n",
    "            result = 'Diabetic'\n",
    "        else:\n",
    "            result ='Non-Diabetic'\n",
    "            \n",
    "        return render_template('single_prediction.html',result=result)\n",
    "\n",
    "    else:\n",
    "        return render_template('home.html')"
   ]
  },
  {
   "cell_type": "code",
   "execution_count": null,
   "id": "4dbe2190",
   "metadata": {},
   "outputs": [
    {
     "name": "stdout",
     "output_type": "stream",
     "text": [
      " * Serving Flask app \"__main__\" (lazy loading)\n",
      " * Environment: production\n",
      "\u001b[31m   WARNING: This is a development server. Do not use it in a production deployment.\u001b[0m\n",
      "\u001b[2m   Use a production WSGI server instead.\u001b[0m\n",
      " * Debug mode: on\n"
     ]
    },
    {
     "name": "stderr",
     "output_type": "stream",
     "text": [
      " * Running on http://127.0.0.1:5000/ (Press CTRL+C to quit)\n",
      "127.0.0.1 - - [14/Apr/2023 19:02:32] \"GET / HTTP/1.1\" 200 -\n",
      "C:\\Users\\sridh\\anaconda3\\lib\\site-packages\\sklearn\\base.py:450: UserWarning: X does not have valid feature names, but StandardScaler was fitted with feature names\n",
      "  warnings.warn(\n",
      "127.0.0.1 - - [14/Apr/2023 19:02:49] \"POST /predictdata HTTP/1.1\" 500 -\n",
      "Traceback (most recent call last):\n",
      "  File \"C:\\Users\\sridh\\anaconda3\\Lib\\site-packages\\flask\\app.py\", line 2464, in __call__\n",
      "    return self.wsgi_app(environ, start_response)\n",
      "  File \"C:\\Users\\sridh\\anaconda3\\Lib\\site-packages\\flask\\app.py\", line 2450, in wsgi_app\n",
      "    response = self.handle_exception(e)\n",
      "  File \"C:\\Users\\sridh\\anaconda3\\Lib\\site-packages\\flask\\app.py\", line 1867, in handle_exception\n",
      "    reraise(exc_type, exc_value, tb)\n",
      "  File \"C:\\Users\\sridh\\anaconda3\\Lib\\site-packages\\flask\\_compat.py\", line 39, in reraise\n",
      "    raise value\n",
      "  File \"C:\\Users\\sridh\\anaconda3\\Lib\\site-packages\\flask\\app.py\", line 2447, in wsgi_app\n",
      "    response = self.full_dispatch_request()\n",
      "  File \"C:\\Users\\sridh\\anaconda3\\Lib\\site-packages\\flask\\app.py\", line 1952, in full_dispatch_request\n",
      "    rv = self.handle_user_exception(e)\n",
      "  File \"C:\\Users\\sridh\\anaconda3\\Lib\\site-packages\\flask\\app.py\", line 1821, in handle_user_exception\n",
      "    reraise(exc_type, exc_value, tb)\n",
      "  File \"C:\\Users\\sridh\\anaconda3\\Lib\\site-packages\\flask\\_compat.py\", line 39, in reraise\n",
      "    raise value\n",
      "  File \"C:\\Users\\sridh\\anaconda3\\Lib\\site-packages\\flask\\app.py\", line 1950, in full_dispatch_request\n",
      "    rv = self.dispatch_request()\n",
      "  File \"C:\\Users\\sridh\\anaconda3\\Lib\\site-packages\\flask\\app.py\", line 1936, in dispatch_request\n",
      "    return self.view_functions[rule.endpoint](**req.view_args)\n",
      "  File \"C:\\Users\\sridh\\AppData\\Local\\Temp\\ipykernel_12460\\3762813683.py\", line 17, in predict_datapoint\n",
      "    \n",
      "  File \"C:\\Users\\sridh\\anaconda3\\Lib\\site-packages\\sklearn\\linear_model\\_base.py\", line 425, in predict\n",
      "    scores = self.decision_function(X)\n",
      "  File \"C:\\Users\\sridh\\anaconda3\\Lib\\site-packages\\sklearn\\linear_model\\_base.py\", line 405, in decision_function\n",
      "    check_is_fitted(self)\n",
      "  File \"C:\\Users\\sridh\\anaconda3\\Lib\\site-packages\\sklearn\\utils\\validation.py\", line 1222, in check_is_fitted\n",
      "    raise NotFittedError(msg % {\"name\": type(estimator).__name__})\n",
      "sklearn.exceptions.NotFittedError: This LogisticRegression instance is not fitted yet. Call 'fit' with appropriate arguments before using this estimator.\n",
      "127.0.0.1 - - [14/Apr/2023 19:02:50] \"GET /predictdata?__debugger__=yes&cmd=resource&f=debugger.js HTTP/1.1\" 200 -\n",
      "127.0.0.1 - - [14/Apr/2023 19:02:50] \"GET /predictdata?__debugger__=yes&cmd=resource&f=style.css HTTP/1.1\" 200 -\n",
      "127.0.0.1 - - [14/Apr/2023 19:02:50] \"GET /predictdata?__debugger__=yes&cmd=resource&f=console.png HTTP/1.1\" 200 -\n",
      "127.0.0.1 - - [14/Apr/2023 19:02:50] \"GET /predictdata?__debugger__=yes&cmd=resource&f=ubuntu.ttf HTTP/1.1\" 200 -\n",
      "127.0.0.1 - - [14/Apr/2023 19:02:50] \"GET /predictdata?__debugger__=yes&cmd=resource&f=console.png HTTP/1.1\" 200 -\n"
     ]
    }
   ],
   "source": [
    "if __name__==\"__main__\":\n",
    "    app.run(debug=True,use_reloader=False)"
   ]
  },
  {
   "cell_type": "code",
   "execution_count": null,
   "id": "6ac1a670",
   "metadata": {},
   "outputs": [],
   "source": []
  }
 ],
 "metadata": {
  "kernelspec": {
   "display_name": "Python 3 (ipykernel)",
   "language": "python",
   "name": "python3"
  },
  "language_info": {
   "codemirror_mode": {
    "name": "ipython",
    "version": 3
   },
   "file_extension": ".py",
   "mimetype": "text/x-python",
   "name": "python",
   "nbconvert_exporter": "python",
   "pygments_lexer": "ipython3",
   "version": "3.9.12"
  }
 },
 "nbformat": 4,
 "nbformat_minor": 5
}
